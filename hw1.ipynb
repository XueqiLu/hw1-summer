{
 "cells": [
  {
   "cell_type": "markdown",
   "id": "86db1669",
   "metadata": {},
   "source": [
    "Part 1"
   ]
  },
  {
   "cell_type": "markdown",
   "id": "26e5083a",
   "metadata": {},
   "source": [
    "1.a"
   ]
  },
  {
   "cell_type": "markdown",
   "id": "64400456",
   "metadata": {},
   "source": [
    "HMC focuses on real returns because they are adjusted for inflation, whereas nominal returns are not. This is important because it reflects the true increase in value of investments. For example, a nominal return of 2% would not mean much if inflation was 2% in the same period. On the other hand, a 2% real return would signify a genuine increase in the portfolio’s value or purchasing power by 2%. In addition, HMC stated that its goal for The Policy Portfolio was to “preserve the real value of the endowment and allow for some real growth” (Page 2). To achieve their preservation goal, HMC aims for an average real return of at least 3-4% annually (Page 2).\n",
    "\n",
    "Using real returns in the mean-variance analysis alters the solution significantly and thus the perceived riskiness (variance) of an asset. Inputting nominal returns may overstate or exaggerate the expected returns during periods of high inflation, whereas real returns would reflect true economic gains, both of which may lead to completely different portfolio allocations. This is not a matter of scaling, because scaling typically refers to uniformly subtracting a constant inflation rate from each return in an asset class. For example, if the nominal returns of an asset class is 10% and the inflation rate is 2%, then the “real” return would be 8%."
   ]
  },
  {
   "cell_type": "markdown",
   "id": "3fe5be7c",
   "metadata": {},
   "source": [
    "1.b"
   ]
  },
  {
   "cell_type": "markdown",
   "id": "6c0633e1",
   "metadata": {},
   "source": [
    "Utilizing MV optimization for 1,000 securities is not preferable because the analysis relies heavily on estimates of returns, volatilities, and correlations. Thus, an increase in assets or estimations would lead to less reliable results since it increases the risk of errors and inaccuracy. Moreover, the additional complexity and computational resources required to optimize a larger number of assets may not justify the incremental reduction in portfolio risk due to diminishing marginal returns. In other words, it may not yield benefits that are proportional to the costs and time."
   ]
  },
  {
   "cell_type": "markdown",
   "id": "d7881051",
   "metadata": {},
   "source": [
    "1.c"
   ]
  },
  {
   "cell_type": "markdown",
   "id": "6bd83342",
   "metadata": {},
   "source": [
    "For the two-stage optimization approach to accurately approximate the MV optimization of all assets, the individual securities should have low correlation with one another to ensure that each one adds to the portfolio’s diversity. This is because effective diversification occurs when asset classes have sufficiently different behaviors. Another aspect that should be true is the asset class should behave similarly (like equities versus bonds) so that combining all the asset-class portfolios into one total optimized portfolio helps spread risk effectively and meaningfully."
   ]
  },
  {
   "cell_type": "markdown",
   "id": "86b3f99a",
   "metadata": {},
   "source": [
    "1.d"
   ]
  },
  {
   "cell_type": "markdown",
   "id": "0973de7f",
   "metadata": {},
   "source": [
    "Given its newness and unique characteristic of being dynamic to CPI values, TIPS likely has a low correlation with other asset classes and thus should be separated into a new asset class because of its independent movements. As a reminder, the original 11 asset classes within The Policy Portfolio are below (Page 6).\n",
    "\n",
    "1. Domestic Equity\n",
    "2. Foreign Equity\n",
    "3. Emerging Markets\n",
    "4. Private Equity\n",
    "5. Absolute Return\n",
    "6. High Yield\n",
    "7. Commodities\n",
    "8. Real Estate\n",
    "9. Domestic Bonds\n",
    "10. Foreign Bonds\n",
    "11. Cash\n",
    "\n",
    "Moreover, Exhibit 4 displays “Infl-Indexed Bonds” as a new asset class (Page 9). In a journal published by Portfolio Management Research, “the author maintains that TIPS should be evaluated as a separate and distinct asset class” because its sensitivity to inflation is distinct from traditional bonds."
   ]
  },
  {
   "cell_type": "markdown",
   "id": "ec0df8dd",
   "metadata": {},
   "source": [
    "2.a"
   ]
  },
  {
   "cell_type": "markdown",
   "id": "fa22692a",
   "metadata": {},
   "source": [
    "Firstly, placing bounds or constraints on certain asset classes aims to manage risk with predefined parameters such as regulatory limits, risk tolerance levels, liquidity requirements, or other factors. Doing this means that HMC is not following the exact output of the MV optimization model, but instead tailors its portfolio allocation according to its specific goals and circumstances. As a reminder, here are the constraints set by HMC from both Exhibits 5 & 6:"
   ]
  },
  {
   "cell_type": "markdown",
   "id": "c0038cd7",
   "metadata": {},
   "source": [
    "| Constraint | 0%-Lower | 0%-Upper | 10%-Lower | 10%-Upper |\n",
    "| --- | ---| --- | --- | --- |\n",
    "| Domestic Equity | 0.00 | 1.00 | 22.0 | 42.0 |\n",
    "| Foreign Equity | 0.00 | 1.00 | 5.0 | 25.0 |\n",
    "| Emerging Markets | 0.00 | 1.00 | (1.0) | 19.0 |\n",
    "| Private Equity | 0.00 | 1.00 | 5.0 | 25.0 |\n",
    "| Absolute Return | 0.00 | 1.00 | (6.0) | 14.0 |\n",
    "| High Yield | 0.00 | 1.00 | (8.0) | 12.0 |\n",
    "| Commodities | 0.00 | 1.00 | (5.0) | 15.0 |\n",
    "| Real Estate | 0.00 | 1.00 | (3.0) | 17.0 |\n",
    "| Domestic Bonds | 0.00 | 1.00 | 1.0 | 21.0 |\n",
    "| Foreign Bonds | 0.00 | 1.00 | (5.0) | 15.0 |\n",
    "| Infl-Indexed Bonds | 0.00 | 1.00 | 0.00 | 100.0 |\n",
    "| Cash | (0.50) | 1.00 | (15.0) | 5.0 |"
   ]
  },
  {
   "cell_type": "markdown",
   "id": "17f4785a",
   "metadata": {},
   "source": [
    "2.b"
   ]
  },
  {
   "cell_type": "markdown",
   "id": "265384b3",
   "metadata": {},
   "source": [
    "The constraint is binding in the case of domestic equities and bonds because they likely have higher perceived risk or do not offer favorable returns relative to the other asset classes. The equities may have too high of volatility whereas the bonds may not offer sufficient yield or capital appreciation to meet the portfolio’s return objectives. In an unconstrained scenario, a portfolio would likely allocate capital to domestic equities and bonds if market conditions signaled favorable growth potential regardless of any risk tolerance."
   ]
  },
  {
   "cell_type": "markdown",
   "id": "d102d81a",
   "metadata": {},
   "source": [
    "2.c"
   ]
  },
  {
   "cell_type": "markdown",
   "id": "990bce4d",
   "metadata": {},
   "source": [
    "When there was a change from 0% constraint to 10% constraint, the expected real returns remained the exactly the same. However, the Sharpe Ratio descreased from 0.38 to 0.35. Since this measures the risk-adjusted return, it signifies that each unit of risk generates slightly less return than before. Additionally, the standard deviation increase in all portfolio allocations. This indicates that there would be greater volatility and thus risk. These effects of tightening constraints imply that the overall portfolio risk may be reduced, but it comes at the cost of lower risk-adjusted returns and increased volatility."
   ]
  },
  {
   "cell_type": "markdown",
   "id": "29dccd74",
   "metadata": {},
   "source": [
    "Part 2"
   ]
  },
  {
   "cell_type": "code",
   "execution_count": 21,
   "id": "67a15506",
   "metadata": {
    "scrolled": true
   },
   "outputs": [
    {
     "data": {
      "text/html": [
       "<div>\n",
       "<style scoped>\n",
       "    .dataframe tbody tr th:only-of-type {\n",
       "        vertical-align: middle;\n",
       "    }\n",
       "\n",
       "    .dataframe tbody tr th {\n",
       "        vertical-align: top;\n",
       "    }\n",
       "\n",
       "    .dataframe thead th {\n",
       "        text-align: right;\n",
       "    }\n",
       "</style>\n",
       "<table border=\"1\" class=\"dataframe\">\n",
       "  <thead>\n",
       "    <tr style=\"text-align: right;\">\n",
       "      <th></th>\n",
       "      <th>BWX</th>\n",
       "      <th>DBC</th>\n",
       "      <th>EEM</th>\n",
       "      <th>EFA</th>\n",
       "      <th>HYG</th>\n",
       "      <th>IEF</th>\n",
       "      <th>IYR</th>\n",
       "      <th>PSP</th>\n",
       "      <th>QAI</th>\n",
       "      <th>SPY</th>\n",
       "      <th>TIP</th>\n",
       "    </tr>\n",
       "    <tr>\n",
       "      <th>Date</th>\n",
       "      <th></th>\n",
       "      <th></th>\n",
       "      <th></th>\n",
       "      <th></th>\n",
       "      <th></th>\n",
       "      <th></th>\n",
       "      <th></th>\n",
       "      <th></th>\n",
       "      <th></th>\n",
       "      <th></th>\n",
       "      <th></th>\n",
       "    </tr>\n",
       "  </thead>\n",
       "  <tbody>\n",
       "    <tr>\n",
       "      <th>2009-04-30</th>\n",
       "      <td>0.008440</td>\n",
       "      <td>-0.001554</td>\n",
       "      <td>0.155029</td>\n",
       "      <td>0.114637</td>\n",
       "      <td>0.137906</td>\n",
       "      <td>-0.028005</td>\n",
       "      <td>0.295598</td>\n",
       "      <td>0.229649</td>\n",
       "      <td>0.022329</td>\n",
       "      <td>0.098793</td>\n",
       "      <td>-0.018505</td>\n",
       "    </tr>\n",
       "    <tr>\n",
       "      <th>2009-05-31</th>\n",
       "      <td>0.054143</td>\n",
       "      <td>0.163134</td>\n",
       "      <td>0.159871</td>\n",
       "      <td>0.132390</td>\n",
       "      <td>0.029026</td>\n",
       "      <td>-0.020302</td>\n",
       "      <td>0.023198</td>\n",
       "      <td>0.054364</td>\n",
       "      <td>0.028337</td>\n",
       "      <td>0.058925</td>\n",
       "      <td>0.020438</td>\n",
       "    </tr>\n",
       "    <tr>\n",
       "      <th>2009-06-30</th>\n",
       "      <td>0.004550</td>\n",
       "      <td>-0.026858</td>\n",
       "      <td>-0.023093</td>\n",
       "      <td>-0.014648</td>\n",
       "      <td>0.032919</td>\n",
       "      <td>-0.006170</td>\n",
       "      <td>-0.025461</td>\n",
       "      <td>0.044850</td>\n",
       "      <td>-0.004035</td>\n",
       "      <td>-0.001253</td>\n",
       "      <td>0.001383</td>\n",
       "    </tr>\n",
       "    <tr>\n",
       "      <th>2009-07-31</th>\n",
       "      <td>0.031311</td>\n",
       "      <td>0.018594</td>\n",
       "      <td>0.110173</td>\n",
       "      <td>0.100441</td>\n",
       "      <td>0.069217</td>\n",
       "      <td>0.008344</td>\n",
       "      <td>0.105826</td>\n",
       "      <td>0.143275</td>\n",
       "      <td>0.015352</td>\n",
       "      <td>0.074632</td>\n",
       "      <td>0.000905</td>\n",
       "    </tr>\n",
       "    <tr>\n",
       "      <th>2009-08-31</th>\n",
       "      <td>0.007192</td>\n",
       "      <td>-0.040800</td>\n",
       "      <td>-0.013571</td>\n",
       "      <td>0.044595</td>\n",
       "      <td>-0.017405</td>\n",
       "      <td>0.007199</td>\n",
       "      <td>0.131503</td>\n",
       "      <td>0.032977</td>\n",
       "      <td>-0.004586</td>\n",
       "      <td>0.036504</td>\n",
       "      <td>0.007978</td>\n",
       "    </tr>\n",
       "  </tbody>\n",
       "</table>\n",
       "</div>"
      ],
      "text/plain": [
       "                 BWX       DBC       EEM       EFA       HYG       IEF  \\\n",
       "Date                                                                     \n",
       "2009-04-30  0.008440 -0.001554  0.155029  0.114637  0.137906 -0.028005   \n",
       "2009-05-31  0.054143  0.163134  0.159871  0.132390  0.029026 -0.020302   \n",
       "2009-06-30  0.004550 -0.026858 -0.023093 -0.014648  0.032919 -0.006170   \n",
       "2009-07-31  0.031311  0.018594  0.110173  0.100441  0.069217  0.008344   \n",
       "2009-08-31  0.007192 -0.040800 -0.013571  0.044595 -0.017405  0.007199   \n",
       "\n",
       "                 IYR       PSP       QAI       SPY       TIP  \n",
       "Date                                                          \n",
       "2009-04-30  0.295598  0.229649  0.022329  0.098793 -0.018505  \n",
       "2009-05-31  0.023198  0.054364  0.028337  0.058925  0.020438  \n",
       "2009-06-30 -0.025461  0.044850 -0.004035 -0.001253  0.001383  \n",
       "2009-07-31  0.105826  0.143275  0.015352  0.074632  0.000905  \n",
       "2009-08-31  0.131503  0.032977 -0.004586  0.036504  0.007978  "
      ]
     },
     "execution_count": 21,
     "metadata": {},
     "output_type": "execute_result"
    }
   ],
   "source": [
    "import pandas as pd\n",
    "import numpy as np\n",
    "import matplotlib.pyplot as plt\n",
    "import seaborn as sns\n",
    "import datetime\n",
    "import warnings\n",
    "\n",
    "#import the data\n",
    "data_frame=pd.read_excel('/Users/luxueqi/Desktop/multi_asset_etf_data-2.xlsx',sheet_name='excess returns',index_col=0)\n",
    "data_frame.head()"
   ]
  },
  {
   "cell_type": "code",
   "execution_count": 33,
   "id": "ffaf6295",
   "metadata": {},
   "outputs": [
    {
     "name": "stdout",
     "output_type": "stream",
     "text": [
      "BWX   -0.004532\n",
      "DBC    0.021884\n",
      "EEM    0.064970\n",
      "EFA    0.083817\n",
      "HYG    0.062909\n",
      "IEF    0.011250\n",
      "IYR    0.122743\n",
      "PSP    0.134369\n",
      "QAI    0.019373\n",
      "SPY    0.145133\n",
      "TIP    0.020233\n",
      "dtype: float64\n",
      "BWX    0.085384\n",
      "DBC    0.175468\n",
      "EEM    0.194206\n",
      "EFA    0.164818\n",
      "HYG    0.088292\n",
      "IEF    0.064291\n",
      "IYR    0.189811\n",
      "PSP    0.226988\n",
      "QAI    0.050940\n",
      "SPY    0.147890\n",
      "TIP    0.051752\n",
      "dtype: float64\n",
      "BWX   -0.053080\n",
      "DBC    0.124717\n",
      "EEM    0.334541\n",
      "EFA    0.508542\n",
      "HYG    0.712512\n",
      "IEF    0.174981\n",
      "IYR    0.646659\n",
      "PSP    0.591964\n",
      "QAI    0.380306\n",
      "SPY    0.981357\n",
      "TIP    0.390955\n",
      "dtype: float64\n",
      "[-0.05307952  0.1247168   0.17498111  0.33454112  0.38030573  0.39095512\n",
      "  0.50854171  0.59196426  0.64665885  0.71251193  0.98135651]\n"
     ]
    }
   ],
   "source": [
    "#Question 1\n",
    "df_mean=data_frame.mean()*12\n",
    "df_std=data_frame.std()*(np.sqrt(12))\n",
    "df_sr=df_mean/df_std\n",
    "#Q1(a) mean and volatility\n",
    "print(df_mean)\n",
    "print(df_std)\n",
    "#Q1(b) Sharpe ratios\n",
    "print(df_sr)\n",
    "print(np.sort(df_sr))\n",
    "# we could see from the output: the best is SPY with 0.981; and the worst is BWX with -0.005"
   ]
  },
  {
   "cell_type": "code",
   "execution_count": 23,
   "id": "cd445ca4",
   "metadata": {},
   "outputs": [
    {
     "name": "stdout",
     "output_type": "stream",
     "text": [
      "(3, 7)\n"
     ]
    },
    {
     "data": {
      "image/png": "[encoded data removed]",
      "text/plain": [
       "<Figure size 640x480 with 2 Axes>"
      ]
     },
     "metadata": {},
     "output_type": "display_data"
    }
   ],
   "source": [
    "#Q2(a)\n",
    "df_corr=data_frame.corr()\n",
    "sns.heatmap(data_frame.corr(),annot=True);\n",
    "#to avoid the correlation 1\n",
    "df_corr[df_corr == 1] = 0\n",
    "#since there're two 0.9, we can't spot the highest correlation directly from the graph\n",
    "max_index = np.unravel_index(np.argmax(df_corr), df_corr.shape)\n",
    "print(max_index)\n",
    "#EFA & PSP has the highest correlation\n",
    "#IEF & DBC has the lowest correlation"
   ]
  },
  {
   "cell_type": "markdown",
   "id": "95415371",
   "metadata": {},
   "source": [
    "Q2(b)  TIPs(rankings from the lowest)：mean ranking 4/11; volatility ranking 2/11; Sharpe ranking 6/11. It has a lower variance but also with a lower mean. We could determine the overall performance by the sharpe ratio, which ranked in the middle. Comparing with IEF domestic and BWX foreign, which have the rankings 2/3/3 and 1/4/1 respectively, TIPs perform better. Since the mean values and sharpe ratio values of IEF and BWX are all lower than TIP, but volatility values are greater."
   ]
  },
  {
   "cell_type": "markdown",
   "id": "04f6416e",
   "metadata": {},
   "source": [
    "Q2(c) Based on the data, do TIPS seem to expand the investment opportunity set, implying that Harvard should consider them as a separate asset?\n",
    "\n",
    "Based on the data, TIPS do not seem to expand the portfolios' diversitifcation significantly. A quick summary of the data is that TIP had the highest annualized return of 2% and lowest annualized volatility of 5%. Also, TIP had a stronger risk-adjusted return with the highest annualized Sharpe Ratio of 0.39. While these metrics are favorable compared to the other bonds, TIP has a strong positive correlation with both IEF (0.726) and BWX (0.638), meaning that they tend to move in similar directions. This suggests that a seperate asset class may not be justifiable because all three would react similarly to market conditions. Instead, TIPS should be added to an existing asset class to ensure more accurate risk management."
   ]
  },
  {
   "cell_type": "code",
   "execution_count": 43,
   "id": "424a3113",
   "metadata": {},
   "outputs": [
    {
     "data": {
      "text/html": [
       "<style type=\"text/css\">\n",
       "</style>\n",
       "<table id=\"T_2da32\">\n",
       "  <thead>\n",
       "    <tr>\n",
       "      <th class=\"blank level0\" >&nbsp;</th>\n",
       "      <th id=\"T_2da32_level0_col0\" class=\"col_heading level0 col0\" >Tangency Portfolio</th>\n",
       "    </tr>\n",
       "  </thead>\n",
       "  <tbody>\n",
       "    <tr>\n",
       "      <th id=\"T_2da32_level0_row0\" class=\"row_heading level0 row0\" >SPY</th>\n",
       "      <td id=\"T_2da32_row0_col0\" class=\"data row0 col0\" >69.90</td>\n",
       "    </tr>\n",
       "    <tr>\n",
       "      <th id=\"T_2da32_level0_row1\" class=\"row_heading level0 row1\" >IEF</th>\n",
       "      <td id=\"T_2da32_row1_col0\" class=\"data row1 col0\" >62.96</td>\n",
       "    </tr>\n",
       "    <tr>\n",
       "      <th id=\"T_2da32_level0_row2\" class=\"row_heading level0 row2\" >HYG</th>\n",
       "      <td id=\"T_2da32_row2_col0\" class=\"data row2 col0\" >34.75</td>\n",
       "    </tr>\n",
       "    <tr>\n",
       "      <th id=\"T_2da32_level0_row3\" class=\"row_heading level0 row3\" >EEM</th>\n",
       "      <td id=\"T_2da32_row3_col0\" class=\"data row3 col0\" >10.02</td>\n",
       "    </tr>\n",
       "    <tr>\n",
       "      <th id=\"T_2da32_level0_row4\" class=\"row_heading level0 row4\" >TIP</th>\n",
       "      <td id=\"T_2da32_row4_col0\" class=\"data row4 col0\" >5.45</td>\n",
       "    </tr>\n",
       "    <tr>\n",
       "      <th id=\"T_2da32_level0_row5\" class=\"row_heading level0 row5\" >DBC</th>\n",
       "      <td id=\"T_2da32_row5_col0\" class=\"data row5 col0\" >1.70</td>\n",
       "    </tr>\n",
       "    <tr>\n",
       "      <th id=\"T_2da32_level0_row6\" class=\"row_heading level0 row6\" >EFA</th>\n",
       "      <td id=\"T_2da32_row6_col0\" class=\"data row6 col0\" >0.51</td>\n",
       "    </tr>\n",
       "    <tr>\n",
       "      <th id=\"T_2da32_level0_row7\" class=\"row_heading level0 row7\" >PSP</th>\n",
       "      <td id=\"T_2da32_row7_col0\" class=\"data row7 col0\" >-11.53</td>\n",
       "    </tr>\n",
       "    <tr>\n",
       "      <th id=\"T_2da32_level0_row8\" class=\"row_heading level0 row8\" >IYR</th>\n",
       "      <td id=\"T_2da32_row8_col0\" class=\"data row8 col0\" >-12.37</td>\n",
       "    </tr>\n",
       "    <tr>\n",
       "      <th id=\"T_2da32_level0_row9\" class=\"row_heading level0 row9\" >BWX</th>\n",
       "      <td id=\"T_2da32_row9_col0\" class=\"data row9 col0\" >-46.26</td>\n",
       "    </tr>\n",
       "    <tr>\n",
       "      <th id=\"T_2da32_level0_row10\" class=\"row_heading level0 row10\" >QAI</th>\n",
       "      <td id=\"T_2da32_row10_col0\" class=\"data row10 col0\" >-114.13</td>\n",
       "    </tr>\n",
       "  </tbody>\n",
       "</table>\n"
      ],
      "text/plain": [
       "<pandas.io.formats.style.Styler at 0x7fd5117dd8b0>"
      ]
     },
     "metadata": {},
     "output_type": "display_data"
    },
    {
     "name": "stdout",
     "output_type": "stream",
     "text": [
      "Tangency Portfolio    8.812157\n",
      "dtype: float64\n",
      "Tangency Portfolio    5.293389\n",
      "dtype: float64\n",
      "Tangency Portfolio    1.664748\n",
      "dtype: float64\n"
     ]
    }
   ],
   "source": [
    "#Question 3\n",
    "from numpy.linalg import inv,pinv\n",
    "m=data_frame.mean()\n",
    "I = np.ones(11)\n",
    "cov=data_frame.cov()\n",
    "C = I.T@pinv(cov)@I \n",
    "B = m@pinv(cov)@I\n",
    "A = m@pinv(cov)@m\n",
    "# minimum variance portfolio weights\n",
    "w_g = (pinv(cov)@I)/C\n",
    "\n",
    "#risk-free\n",
    "rf=0\n",
    "\n",
    "# weights for tangency portfolio\n",
    "w_tan = (pinv(cov)@(m.T - rf*I))/(B-C*rf)\n",
    "\n",
    "#function mv from 2023 repo\n",
    "def mv_portfolio(mean_rets, cov_matrix, target=None):\n",
    "\n",
    "    if target is None:\n",
    "        return w_tan\n",
    "\n",
    "    delta = (target - mean_rets @ w_g) / (mean_rets @ w_tan - mean_rets @ w_g)\n",
    "    return delta * w_tan + (1 - delta) * w_g\n",
    "w_t = mv_portfolio(m, cov)\n",
    "\n",
    "#Q3(a)\n",
    "w_tan_df = pd.DataFrame(w_t, index=data_frame.columns, columns=[\"Tangency Portfolio\"])\n",
    "\n",
    "display(\n",
    "    w_tan_df.sort_values(by=\"Tangency Portfolio\", ascending=False).style.format(\n",
    "        \"{:.2f}\"\n",
    "    )\n",
    ")\n",
    "\n",
    "\n",
    "# mean,volatility, and Sharpe ratio for weighted portfolio.\n",
    "def performance(data_frame, w):\n",
    "    w_tan_data_frame = data_frame @ w\n",
    "    w_tan_df_mean=w_tan_data_frame.mean()*12\n",
    "    w_tan_df_std=w_tan_data_frame.std()*(np.sqrt(12))\n",
    "    w_tan_df_sr=w_tan_df_mean/w_tan_df_std\n",
    "    print(w_tan_df_mean)\n",
    "    print(w_tan_df_std)\n",
    "    print(w_tan_df_sr)\n",
    "performance(data_frame, w_tan_df)"
   ]
  },
  {
   "cell_type": "code",
   "execution_count": 45,
   "id": "4d1ff761",
   "metadata": {
    "scrolled": true
   },
   "outputs": [
    {
     "data": {
      "text/html": [
       "<style type=\"text/css\">\n",
       "</style>\n",
       "<table id=\"T_ca1b2\">\n",
       "  <thead>\n",
       "    <tr>\n",
       "      <th class=\"blank level0\" >&nbsp;</th>\n",
       "      <th id=\"T_ca1b2_level0_col0\" class=\"col_heading level0 col0\" >Target Portfolio</th>\n",
       "    </tr>\n",
       "  </thead>\n",
       "  <tbody>\n",
       "    <tr>\n",
       "      <th id=\"T_ca1b2_level0_row0\" class=\"row_heading level0 row0\" >IEF</th>\n",
       "      <td id=\"T_ca1b2_row0_col0\" class=\"data row0 col0\" >0.68</td>\n",
       "    </tr>\n",
       "    <tr>\n",
       "      <th id=\"T_ca1b2_level0_row1\" class=\"row_heading level0 row1\" >SPY</th>\n",
       "      <td id=\"T_ca1b2_row1_col0\" class=\"data row1 col0\" >0.62</td>\n",
       "    </tr>\n",
       "    <tr>\n",
       "      <th id=\"T_ca1b2_level0_row2\" class=\"row_heading level0 row2\" >HYG</th>\n",
       "      <td id=\"T_ca1b2_row2_col0\" class=\"data row2 col0\" >0.51</td>\n",
       "    </tr>\n",
       "    <tr>\n",
       "      <th id=\"T_ca1b2_level0_row3\" class=\"row_heading level0 row3\" >TIP</th>\n",
       "      <td id=\"T_ca1b2_row3_col0\" class=\"data row3 col0\" >0.21</td>\n",
       "    </tr>\n",
       "    <tr>\n",
       "      <th id=\"T_ca1b2_level0_row4\" class=\"row_heading level0 row4\" >EEM</th>\n",
       "      <td id=\"T_ca1b2_row4_col0\" class=\"data row4 col0\" >0.03</td>\n",
       "    </tr>\n",
       "    <tr>\n",
       "      <th id=\"T_ca1b2_level0_row5\" class=\"row_heading level0 row5\" >EFA</th>\n",
       "      <td id=\"T_ca1b2_row5_col0\" class=\"data row5 col0\" >0.02</td>\n",
       "    </tr>\n",
       "    <tr>\n",
       "      <th id=\"T_ca1b2_level0_row6\" class=\"row_heading level0 row6\" >DBC</th>\n",
       "      <td id=\"T_ca1b2_row6_col0\" class=\"data row6 col0\" >0.01</td>\n",
       "    </tr>\n",
       "    <tr>\n",
       "      <th id=\"T_ca1b2_level0_row7\" class=\"row_heading level0 row7\" >QAI</th>\n",
       "      <td id=\"T_ca1b2_row7_col0\" class=\"data row7 col0\" >-0.11</td>\n",
       "    </tr>\n",
       "    <tr>\n",
       "      <th id=\"T_ca1b2_level0_row8\" class=\"row_heading level0 row8\" >IYR</th>\n",
       "      <td id=\"T_ca1b2_row8_col0\" class=\"data row8 col0\" >-0.14</td>\n",
       "    </tr>\n",
       "    <tr>\n",
       "      <th id=\"T_ca1b2_level0_row9\" class=\"row_heading level0 row9\" >PSP</th>\n",
       "      <td id=\"T_ca1b2_row9_col0\" class=\"data row9 col0\" >-0.24</td>\n",
       "    </tr>\n",
       "    <tr>\n",
       "      <th id=\"T_ca1b2_level0_row10\" class=\"row_heading level0 row10\" >BWX</th>\n",
       "      <td id=\"T_ca1b2_row10_col0\" class=\"data row10 col0\" >-0.60</td>\n",
       "    </tr>\n",
       "  </tbody>\n",
       "</table>\n"
      ],
      "text/plain": [
       "<pandas.io.formats.style.Styler at 0x7fd501ada310>"
      ]
     },
     "metadata": {},
     "output_type": "display_data"
    },
    {
     "name": "stdout",
     "output_type": "stream",
     "text": [
      "Target Portfolio    0.09\n",
      "dtype: float64\n",
      "Target Portfolio    0.061026\n",
      "dtype: float64\n",
      "Target Portfolio    1.474774\n",
      "dtype: float64\n"
     ]
    }
   ],
   "source": [
    "#Q4(a)\n",
    "w_mu=mv_portfolio(m, cov, target=0.0075)\n",
    "w_mu_df = pd.DataFrame(w_mu, index=data_frame.columns, columns=[\"Target Portfolio\"])\n",
    "\n",
    "display(\n",
    "    w_mu_df.sort_values(by=\"Target Portfolio\", ascending=False).style.format(\n",
    "        \"{:.2f}\"\n",
    "    )\n",
    ")\n",
    "#Q4(b)\n",
    "performance(data_frame, w_mu_df)"
   ]
  },
  {
   "cell_type": "markdown",
   "id": "cd1fe6a5",
   "metadata": {},
   "source": [
    "Q4(c)  Discuss the allocation. In which assets is the portfolio most long? And short?\n",
    "\n",
    "To identify which assets the portfolio is most long in, we can look at the data from both the Target and Tangency Portfolio columns. Assets with positive values are considered long positions (invested) and vise versa (sold short). Moreover, the higher the positive value, the larger the allocation of the portfolio's capital to that particular asset. Knowing this, the portfolio is the most long in IEF and SPY. IEF has substantial allocation in both portfolios with 62.959 in Tangency and 0.6777 in Target, which suggests a preference for U.S. 7-10 year treasury bonds and possibily stable returns that fixed income generally provides. Similarly, SPY has 69.901 in Tangency and 0.624 in Target, which suggests a bullish stands on the U.S. equity market and economic growth.\n",
    "\n",
    "Conversely, the assets that are the most short are BWX and QAI by a large margin. BWX has the lowest allocation in Tangency at -46.264, and QAI has the lowest Tangency allocation at -114.131. Both positions may reflect a more negative outlook on international treasury bonds and alternative investments."
   ]
  },
  {
   "cell_type": "markdown",
   "id": "5cdc0d2f",
   "metadata": {},
   "source": [
    "Q4(d)  Somewhat, but not exactly. Both SPY and IEF have the highest allocations and higher positive Sharpe Ratios, especially SPY with the highest of the entire portfolio. Given that the Sharpe Ratio represents the risk-adjusted returns, this makes sense given the portfolio's long investment in the ETF. As for the short positions in BWX and QAI, their Sharpe Ratios are both quite low, especially BWX with the only negative value. The small relation between the asset positions and their respective Sharpe Ratios indicate that risk-adjusted returns are strongly considered, but there is an additional strategy being used to justify the variance in each asset.\n",
    "\n",
    "As learned in Lecture 1, this makes sense because returns (or Sharpe Ratio figures) are not the sole determining factor of allocation decisions. Rather, covariance plays a big role, which measures how assets move together based on their calculated correlation. In this case, IEF and SPY may have a strong covariance, meaning that their combined volatility may not reduce risk as much as expected."
   ]
  },
  {
   "cell_type": "code",
   "execution_count": 47,
   "id": "c7f8fdb8",
   "metadata": {},
   "outputs": [
    {
     "name": "stdout",
     "output_type": "stream",
     "text": [
      "0.13193626008124357\n",
      "0    0.09\n",
      "dtype: float64\n",
      "0    0.15107\n",
      "dtype: float64\n",
      "0    0.595752\n",
      "dtype: float64\n"
     ]
    }
   ],
   "source": [
    "#Q5(a)\n",
    "#target return 0.0075, equally weighted:1/n\n",
    "sum_column = (data_frame.mean()).sum()\n",
    "w_eq=0.0075/sum_column\n",
    "print(w_eq) # weight for all\n",
    "arr = np.full((11, 1), w_eq)\n",
    "performance(data_frame, arr)"
   ]
  },
  {
   "cell_type": "code",
   "execution_count": 49,
   "id": "2ec22586",
   "metadata": {},
   "outputs": [
    {
     "name": "stdout",
     "output_type": "stream",
     "text": [
      "BWX    0.219895\n",
      "DBC    0.107003\n",
      "EEM    0.096679\n",
      "EFA    0.113917\n",
      "HYG    0.212652\n",
      "IEF    0.292042\n",
      "IYR    0.098917\n",
      "PSP    0.082716\n",
      "QAI    0.368585\n",
      "SPY    0.126957\n",
      "TIP    0.362798\n",
      "dtype: float64\n",
      "0.09000000000000005\n",
      "0.15495639269752\n",
      "0.5808085644822865\n"
     ]
    }
   ],
   "source": [
    "#Q5(b)\n",
    "w_rp=1/np.sqrt(data_frame.var())\n",
    "#sum before scaling\n",
    "asum=data_frame.mean() @ w_rp\n",
    "w_rq=(0.0075/asum)*w_rp\n",
    "#weight for \"risk-parity\"\n",
    "print(w_rq)\n",
    "performance(data_frame, w_rq)"
   ]
  },
  {
   "cell_type": "markdown",
   "id": "13ea094d",
   "metadata": {},
   "source": [
    "Q5(c)  As for weights, the 'Equally weighted portfolio' and 'Risk-parity portfolio' are evenly distributed. The other two portfolios in above questions, especially the tangency portfolio, have larger range in their weights(i.e. greater difference in their weights), thus impling some assets matter much more than others. Then, for the general performance, the 'Equally weighted portfolio' and 'Risk-parity portfolio' have nearly the same mean, volatility and sharpe ratio. Moreover, the Tangency Portfolio has greater sharpe ratio than the 'equally weighted' and the 'risk-partiy'. The target one has lower variance, which also outperforms these two portfolios."
   ]
  },
  {
   "cell_type": "code",
   "execution_count": 41,
   "id": "604cb0a6",
   "metadata": {},
   "outputs": [],
   "source": [
    "#Question 6\n",
    "#dataframe without TIPs\n",
    "updated_df = data_frame.drop('TIP', axis=1)"
   ]
  },
  {
   "cell_type": "code",
   "execution_count": 54,
   "id": "b5fd71d1",
   "metadata": {},
   "outputs": [
    {
     "data": {
      "text/html": [
       "<style type=\"text/css\">\n",
       "</style>\n",
       "<table id=\"T_e5179\">\n",
       "  <thead>\n",
       "    <tr>\n",
       "      <th class=\"blank level0\" >&nbsp;</th>\n",
       "      <th id=\"T_e5179_level0_col0\" class=\"col_heading level0 col0\" >Tangency Portfolio(no TIP)</th>\n",
       "    </tr>\n",
       "  </thead>\n",
       "  <tbody>\n",
       "    <tr>\n",
       "      <th id=\"T_e5179_level0_row0\" class=\"row_heading level0 row0\" >SPY</th>\n",
       "      <td id=\"T_e5179_row0_col0\" class=\"data row0 col0\" >270.60</td>\n",
       "    </tr>\n",
       "    <tr>\n",
       "      <th id=\"T_e5179_level0_row1\" class=\"row_heading level0 row1\" >IEF</th>\n",
       "      <td id=\"T_e5179_row1_col0\" class=\"data row1 col0\" >255.36</td>\n",
       "    </tr>\n",
       "    <tr>\n",
       "      <th id=\"T_e5179_level0_row2\" class=\"row_heading level0 row2\" >HYG</th>\n",
       "      <td id=\"T_e5179_row2_col0\" class=\"data row2 col0\" >133.86</td>\n",
       "    </tr>\n",
       "    <tr>\n",
       "      <th id=\"T_e5179_level0_row3\" class=\"row_heading level0 row3\" >EEM</th>\n",
       "      <td id=\"T_e5179_row3_col0\" class=\"data row3 col0\" >38.92</td>\n",
       "    </tr>\n",
       "    <tr>\n",
       "      <th id=\"T_e5179_level0_row4\" class=\"row_heading level0 row4\" >DBC</th>\n",
       "      <td id=\"T_e5179_row4_col0\" class=\"data row4 col0\" >8.03</td>\n",
       "    </tr>\n",
       "    <tr>\n",
       "      <th id=\"T_e5179_level0_row5\" class=\"row_heading level0 row5\" >EFA</th>\n",
       "      <td id=\"T_e5179_row5_col0\" class=\"data row5 col0\" >0.27</td>\n",
       "    </tr>\n",
       "    <tr>\n",
       "      <th id=\"T_e5179_level0_row6\" class=\"row_heading level0 row6\" >PSP</th>\n",
       "      <td id=\"T_e5179_row6_col0\" class=\"data row6 col0\" >-43.80</td>\n",
       "    </tr>\n",
       "    <tr>\n",
       "      <th id=\"T_e5179_level0_row7\" class=\"row_heading level0 row7\" >IYR</th>\n",
       "      <td id=\"T_e5179_row7_col0\" class=\"data row7 col0\" >-47.27</td>\n",
       "    </tr>\n",
       "    <tr>\n",
       "      <th id=\"T_e5179_level0_row8\" class=\"row_heading level0 row8\" >BWX</th>\n",
       "      <td id=\"T_e5179_row8_col0\" class=\"data row8 col0\" >-177.41</td>\n",
       "    </tr>\n",
       "    <tr>\n",
       "      <th id=\"T_e5179_level0_row9\" class=\"row_heading level0 row9\" >QAI</th>\n",
       "      <td id=\"T_e5179_row9_col0\" class=\"data row9 col0\" >-437.57</td>\n",
       "    </tr>\n",
       "  </tbody>\n",
       "</table>\n"
      ],
      "text/plain": [
       "<pandas.io.formats.style.Styler at 0x7fd5305a9610>"
      ]
     },
     "metadata": {},
     "output_type": "display_data"
    },
    {
     "name": "stdout",
     "output_type": "stream",
     "text": [
      "Tangency Portfolio(no TIP)    33.933519\n",
      "dtype: float64\n",
      "Tangency Portfolio(no TIP)    20.39134\n",
      "dtype: float64\n",
      "Tangency Portfolio(no TIP)    1.664114\n",
      "dtype: float64\n"
     ]
    }
   ],
   "source": [
    "#compare to Q3\n",
    "u_m=updated_df.mean()\n",
    "u_I = np.ones(10)\n",
    "u_cov=updated_df.cov()\n",
    "u_C = u_I.T@pinv(u_cov)@u_I \n",
    "u_B = u_m@pinv(u_cov)@u_I\n",
    "u_A = u_m@pinv(u_cov)@u_m\n",
    "# Minimum Variance Portfolio Weights\n",
    "u_w_g = (pinv(u_cov)@u_I)/u_C\n",
    "\n",
    "#risk-free\n",
    "rf=0\n",
    "\n",
    "# Weights for Tangency Portfolio\n",
    "u_w_tan = (pinv(u_cov)@(u_m.T - rf*u_I))/(u_B-u_C*rf)\n",
    "\n",
    "#modify mv function:\n",
    "def u_mv_portfolio(mean_rets, cov_matrix, target=None):\n",
    "\n",
    "    if target is None:\n",
    "        return u_w_tan\n",
    "\n",
    "    delta = (target - mean_rets @ u_w_g) / (mean_rets @ u_w_tan - mean_rets @ u_w_g)\n",
    "    return delta * u_w_tan + (1 - delta) * u_w_g\n",
    "u_w_t = u_mv_portfolio(u_m, u_cov)\n",
    "\n",
    "u_w_tan_df = pd.DataFrame(u_w_t, index=updated_df.columns, columns=[\"Tangency Portfolio(no TIP)\"])\n",
    "\n",
    "display(\n",
    "    u_w_tan_df.sort_values(by=\"Tangency Portfolio(no TIP)\", ascending=False).style.format(\n",
    "        \"{:.2f}\"\n",
    "    )\n",
    ")\n",
    "\n",
    "performance(updated_df, u_w_tan_df)"
   ]
  },
  {
   "cell_type": "markdown",
   "id": "d65a3d2c",
   "metadata": {},
   "source": [
    "After deleting TIPs, the sharpe ratio of Tangency Portfolio doesn't change significantly, which means it does not outerperform the original one. But meanwhile, the mean and variance increase a lot, so the Tangency Portfolio may have higher return but with higher risk."
   ]
  },
  {
   "cell_type": "code",
   "execution_count": 53,
   "id": "052ac5f2",
   "metadata": {},
   "outputs": [
    {
     "data": {
      "text/html": [
       "<style type=\"text/css\">\n",
       "</style>\n",
       "<table id=\"T_f3f8d\">\n",
       "  <thead>\n",
       "    <tr>\n",
       "      <th class=\"blank level0\" >&nbsp;</th>\n",
       "      <th id=\"T_f3f8d_level0_col0\" class=\"col_heading level0 col0\" >Tangency Portfolio</th>\n",
       "    </tr>\n",
       "  </thead>\n",
       "  <tbody>\n",
       "    <tr>\n",
       "      <th id=\"T_f3f8d_level0_row0\" class=\"row_heading level0 row0\" >IEF</th>\n",
       "      <td id=\"T_f3f8d_row0_col0\" class=\"data row0 col0\" >0.81</td>\n",
       "    </tr>\n",
       "    <tr>\n",
       "      <th id=\"T_f3f8d_level0_row1\" class=\"row_heading level0 row1\" >SPY</th>\n",
       "      <td id=\"T_f3f8d_row1_col0\" class=\"data row1 col0\" >0.64</td>\n",
       "    </tr>\n",
       "    <tr>\n",
       "      <th id=\"T_f3f8d_level0_row2\" class=\"row_heading level0 row2\" >HYG</th>\n",
       "      <td id=\"T_f3f8d_row2_col0\" class=\"data row2 col0\" >0.51</td>\n",
       "    </tr>\n",
       "    <tr>\n",
       "      <th id=\"T_f3f8d_level0_row3\" class=\"row_heading level0 row3\" >EEM</th>\n",
       "      <td id=\"T_f3f8d_row3_col0\" class=\"data row3 col0\" >0.03</td>\n",
       "    </tr>\n",
       "    <tr>\n",
       "      <th id=\"T_f3f8d_level0_row4\" class=\"row_heading level0 row4\" >DBC</th>\n",
       "      <td id=\"T_f3f8d_row4_col0\" class=\"data row4 col0\" >0.03</td>\n",
       "    </tr>\n",
       "    <tr>\n",
       "      <th id=\"T_f3f8d_level0_row5\" class=\"row_heading level0 row5\" >EFA</th>\n",
       "      <td id=\"T_f3f8d_row5_col0\" class=\"data row5 col0\" >0.01</td>\n",
       "    </tr>\n",
       "    <tr>\n",
       "      <th id=\"T_f3f8d_level0_row6\" class=\"row_heading level0 row6\" >QAI</th>\n",
       "      <td id=\"T_f3f8d_row6_col0\" class=\"data row6 col0\" >-0.06</td>\n",
       "    </tr>\n",
       "    <tr>\n",
       "      <th id=\"T_f3f8d_level0_row7\" class=\"row_heading level0 row7\" >IYR</th>\n",
       "      <td id=\"T_f3f8d_row7_col0\" class=\"data row7 col0\" >-0.14</td>\n",
       "    </tr>\n",
       "    <tr>\n",
       "      <th id=\"T_f3f8d_level0_row8\" class=\"row_heading level0 row8\" >PSP</th>\n",
       "      <td id=\"T_f3f8d_row8_col0\" class=\"data row8 col0\" >-0.23</td>\n",
       "    </tr>\n",
       "    <tr>\n",
       "      <th id=\"T_f3f8d_level0_row9\" class=\"row_heading level0 row9\" >BWX</th>\n",
       "      <td id=\"T_f3f8d_row9_col0\" class=\"data row9 col0\" >-0.59</td>\n",
       "    </tr>\n",
       "  </tbody>\n",
       "</table>\n"
      ],
      "text/plain": [
       "<pandas.io.formats.style.Styler at 0x7fd51182e100>"
      ]
     },
     "metadata": {},
     "output_type": "display_data"
    },
    {
     "name": "stdout",
     "output_type": "stream",
     "text": [
      "Tangency Portfolio    0.09\n",
      "dtype: float64\n",
      "Tangency Portfolio    0.061288\n",
      "dtype: float64\n",
      "Tangency Portfolio    1.468482\n",
      "dtype: float64\n"
     ]
    }
   ],
   "source": [
    "#compare to Q4\n",
    "u_w_mu=u_mv_portfolio(u_m, u_cov, target=0.0075)\n",
    "u_w_mu_df = pd.DataFrame(u_w_mu, index=updated_df.columns, columns=[\"Target Portfolio(no TIP)\"])\n",
    "\n",
    "display(\n",
    "    u_w_mu_df.sort_values(by=\"Target Portfolio(no TIP)\", ascending=False).style.format(\n",
    "        \"{:.2f}\"\n",
    "    )\n",
    ")\n",
    "\n",
    "performance(updated_df, u_w_mu_df)"
   ]
  },
  {
   "cell_type": "markdown",
   "id": "f5aa6a83",
   "metadata": {},
   "source": [
    "The values of mean, volatility, and sharpe ratio all remain(or say, change slightly). So dropping TIPs wouldn't affect the original performance."
   ]
  }
 ],
 "metadata": {
  "kernelspec": {
   "display_name": "Python 3 (ipykernel)",
   "language": "python",
   "name": "python3"
  },
  "language_info": {
   "codemirror_mode": {
    "name": "ipython",
    "version": 3
   },
   "file_extension": ".py",
   "mimetype": "text/x-python",
   "name": "python",
   "nbconvert_exporter": "python",
   "pygments_lexer": "ipython3",
   "version": "3.9.13"
  }
 },
 "nbformat": 4,
 "nbformat_minor": 5
}
